{
 "cells": [
  {
   "cell_type": "code",
   "execution_count": 1,
   "metadata": {},
   "outputs": [
    {
     "name": "stdout",
     "output_type": "stream",
     "text": [
      "F-score: 0.67\n",
      "True Positive Rate (TPR): 0.77\n",
      "False Positive Rate (FPR): 0.45\n"
     ]
    },
    {
     "data": {
      "text/plain": [
       "Text(0.5, 0, 'Histogram of peak in blue color channel 0-255')"
      ]
     },
     "execution_count": 1,
     "metadata": {},
     "output_type": "execute_result"
    },
    {
     "data": {
      "image/png": "[encoded data removed]",
      "text/plain": [
       "<Figure size 432x288 with 1 Axes>"
      ]
     },
     "metadata": {
      "needs_background": "light"
     },
     "output_type": "display_data"
    }
   ],
   "source": [
    "'''\n",
    "Steve Winnall 10 Aug 2019\n",
    "This code is work toward the Udacity Machine Learning NanoDegree Capstone Project\n",
    "\"The Art Thief - Is this a Whiteley?\"\n",
    "Using machine learning to identify a \"fake\" Brett Whiteley paiting.\n",
    "\n",
    "Compare the histograms of the blue color channel for images belonging\n",
    "to the Whiteley and non-Whiteley classes\n",
    "'''\n",
    "\n",
    "#imports\n",
    "import cv2 \n",
    "import glob\n",
    "import numpy as np\n",
    "import matplotlib.pyplot as plt                        \n",
    "%matplotlib inline\n",
    "\n",
    "#initial values\n",
    "threshold = 180 #threshold for classification\n",
    "\n",
    "#initialise variables\n",
    "image = []\n",
    "image_not = []\n",
    "peak_list_not = list()\n",
    "peak_list = list()\n",
    "\n",
    "#for the non-Whiteley class, loop through the images in the training set and extract the blue color value\n",
    "for filename in glob.glob('data/train/not_brett/*.jpg'):  \n",
    "    image_not = cv2.imread(filename, cv2.IMREAD_UNCHANGED) #converts in bgr\n",
    "    if image_not is None:\n",
    "        continue\n",
    "        \n",
    "    #extract color channels\n",
    "    blue_channel_not = image_not[2,:,:]\n",
    "   \n",
    "    #Compute histograms of color\n",
    "    hist_not_blue = cv2.calcHist([blue_channel_not], [0], None, [256], [0, 256])\n",
    "    \n",
    "    #Convert histograms to simple list\n",
    "    hist_not_blue = [val[0] for val in hist_not_blue]; \n",
    "    \n",
    "    #Generate a list of indices\n",
    "    indices = list(range(0, 256));\n",
    "\n",
    "    #Descending sort-by-key with histogram value as key\n",
    "    color_not = [(x,y) for y,x in sorted(zip(hist_not_blue,indices), reverse=True)]\n",
    "\n",
    "    #Index of highest peak in color histogram\n",
    "    index_first_peak_not = color_not[0][0];\n",
    "    peak_list_not = np.append(peak_list_not, index_first_peak_not)\n",
    "\n",
    "#for the Whiteley class, loop through the images in the training set and extract the blue color value\n",
    "for filename in glob.glob('data/train/brett/*.jpg'):  \n",
    "    image = cv2.imread(filename, cv2.IMREAD_UNCHANGED) #converts in bgr\n",
    "    if image is None:\n",
    "        continue\n",
    "        \n",
    "    #extract color channels\n",
    "    blue_channel = image[:,:,2]\n",
    "\n",
    "    #Compute histograms of color\n",
    "    hist_blue = cv2.calcHist([blue_channel], [0], None, [256], [0, 256])\n",
    "    \n",
    "    #Convert histograms to simple list\n",
    "    hist_blue = [val[0] for val in hist_blue]; \n",
    "    \n",
    "    #Generate a list of indices\n",
    "    indices = list(range(0, 256));\n",
    "\n",
    "    #Descending sort-by-key with histogram value as key\n",
    "    color_peak = [(x,y) for y,x in sorted(zip(hist_blue,indices), reverse=True)]\n",
    "\n",
    "    #Index of highest peak in color histogram\n",
    "    index_first_peak = color_peak[0][0];\n",
    "    peak_list = np.append(peak_list, index_first_peak)\n",
    "    \n",
    "#summation of each list\n",
    "\n",
    "#calculate and print the F-score\n",
    "normaliser_peak_list = len(peak_list) + len(peak_list_not)\n",
    "#/ normaliser_peak_list\n",
    "\n",
    "true_positives = sum(i > threshold for i in peak_list)  / normaliser_peak_list\n",
    "true_negatives = sum(i < threshold for i in peak_list_not)  / normaliser_peak_list\n",
    "\n",
    "false_positives = sum(i > threshold for i in peak_list_not)  / normaliser_peak_list\n",
    "false_negatives = sum(i < threshold for i in peak_list)  / normaliser_peak_list\n",
    "\n",
    "Fscore = (2*true_positives)/(2*true_positives + false_positives + false_negatives)\n",
    "\n",
    "TPR = true_positives / (true_positives + false_negatives)\n",
    "FPR = false_positives / (false_positives + true_negatives)\n",
    "\n",
    "print(\"F-score: {:.2f}\".format(Fscore))\n",
    "print(\"True Positive Rate (TPR): {:.2f}\".format(TPR))\n",
    "print(\"False Positive Rate (FPR): {:.2f}\".format(FPR))\n",
    "\n",
    "#plotting of histograms\n",
    "plt.hist(peak_list, 50, density=True, label = 'brett')\n",
    "plt.hist(peak_list_not, 50, density=True, label = 'not_brett')\n",
    "plt.legend(loc='upper left')\n",
    "plt.title('Blue color histogram - training set images')\n",
    "plt.ylabel('Normalised Frequency')\n",
    "plt.xlabel('Histogram of peak in blue color channel 0-255')"
   ]
  }
 ],
 "metadata": {
  "kernelspec": {
   "display_name": "Python 3",
   "language": "python",
   "name": "python3"
  },
  "language_info": {
   "codemirror_mode": {
    "name": "ipython",
    "version": 3
   },
   "file_extension": ".py",
   "mimetype": "text/x-python",
   "name": "python",
   "nbconvert_exporter": "python",
   "pygments_lexer": "ipython3",
   "version": "3.5.6"
  },
  "widgets": {
   "state": {},
   "version": "1.1.2"
  }
 },
 "nbformat": 4,
 "nbformat_minor": 2
}
